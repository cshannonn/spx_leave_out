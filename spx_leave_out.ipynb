{
 "cells": [
  {
   "cell_type": "code",
   "execution_count": 112,
   "id": "38be3b12",
   "metadata": {},
   "outputs": [],
   "source": [
    "import pandas as pd \n",
    "import numpy as np\n",
    "import matplotlib.pyplot as plt\n",
    "from ipywidgets import interact\n",
    "\n",
    "\n",
    "%matplotlib inline"
   ]
  },
  {
   "cell_type": "code",
   "execution_count": 113,
   "id": "d483c3ce",
   "metadata": {},
   "outputs": [],
   "source": [
    "data = pd.read_csv(\"^GSPC.csv\", parse_dates=True, index_col = 0)"
   ]
  },
  {
   "cell_type": "code",
   "execution_count": 114,
   "id": "98c13d1b",
   "metadata": {},
   "outputs": [
    {
     "data": {
      "text/html": [
       "<div>\n",
       "<style scoped>\n",
       "    .dataframe tbody tr th:only-of-type {\n",
       "        vertical-align: middle;\n",
       "    }\n",
       "\n",
       "    .dataframe tbody tr th {\n",
       "        vertical-align: top;\n",
       "    }\n",
       "\n",
       "    .dataframe thead th {\n",
       "        text-align: right;\n",
       "    }\n",
       "</style>\n",
       "<table border=\"1\" class=\"dataframe\">\n",
       "  <thead>\n",
       "    <tr style=\"text-align: right;\">\n",
       "      <th></th>\n",
       "      <th>Open</th>\n",
       "      <th>High</th>\n",
       "      <th>Low</th>\n",
       "      <th>Close</th>\n",
       "      <th>Adj Close</th>\n",
       "      <th>Volume</th>\n",
       "    </tr>\n",
       "    <tr>\n",
       "      <th>Date</th>\n",
       "      <th></th>\n",
       "      <th></th>\n",
       "      <th></th>\n",
       "      <th></th>\n",
       "      <th></th>\n",
       "      <th></th>\n",
       "    </tr>\n",
       "  </thead>\n",
       "  <tbody>\n",
       "    <tr>\n",
       "      <th>1998-12-22</th>\n",
       "      <td>1202.839966</td>\n",
       "      <td>1209.219971</td>\n",
       "      <td>1192.719971</td>\n",
       "      <td>1203.569946</td>\n",
       "      <td>1203.569946</td>\n",
       "      <td>680500000</td>\n",
       "    </tr>\n",
       "    <tr>\n",
       "      <th>1998-12-23</th>\n",
       "      <td>1203.569946</td>\n",
       "      <td>1229.890015</td>\n",
       "      <td>1203.569946</td>\n",
       "      <td>1228.540039</td>\n",
       "      <td>1228.540039</td>\n",
       "      <td>697500000</td>\n",
       "    </tr>\n",
       "    <tr>\n",
       "      <th>1998-12-24</th>\n",
       "      <td>1228.540039</td>\n",
       "      <td>1229.719971</td>\n",
       "      <td>1224.849976</td>\n",
       "      <td>1226.270020</td>\n",
       "      <td>1226.270020</td>\n",
       "      <td>246980000</td>\n",
       "    </tr>\n",
       "    <tr>\n",
       "      <th>1998-12-28</th>\n",
       "      <td>1226.270020</td>\n",
       "      <td>1231.520020</td>\n",
       "      <td>1221.170044</td>\n",
       "      <td>1225.489990</td>\n",
       "      <td>1225.489990</td>\n",
       "      <td>531560000</td>\n",
       "    </tr>\n",
       "    <tr>\n",
       "      <th>1998-12-29</th>\n",
       "      <td>1225.489990</td>\n",
       "      <td>1241.859985</td>\n",
       "      <td>1220.780029</td>\n",
       "      <td>1241.810059</td>\n",
       "      <td>1241.810059</td>\n",
       "      <td>586490000</td>\n",
       "    </tr>\n",
       "  </tbody>\n",
       "</table>\n",
       "</div>"
      ],
      "text/plain": [
       "                   Open         High          Low        Close    Adj Close  \\\n",
       "Date                                                                          \n",
       "1998-12-22  1202.839966  1209.219971  1192.719971  1203.569946  1203.569946   \n",
       "1998-12-23  1203.569946  1229.890015  1203.569946  1228.540039  1228.540039   \n",
       "1998-12-24  1228.540039  1229.719971  1224.849976  1226.270020  1226.270020   \n",
       "1998-12-28  1226.270020  1231.520020  1221.170044  1225.489990  1225.489990   \n",
       "1998-12-29  1225.489990  1241.859985  1220.780029  1241.810059  1241.810059   \n",
       "\n",
       "               Volume  \n",
       "Date                   \n",
       "1998-12-22  680500000  \n",
       "1998-12-23  697500000  \n",
       "1998-12-24  246980000  \n",
       "1998-12-28  531560000  \n",
       "1998-12-29  586490000  "
      ]
     },
     "execution_count": 114,
     "metadata": {},
     "output_type": "execute_result"
    }
   ],
   "source": [
    "data.head()"
   ]
  },
  {
   "cell_type": "code",
   "execution_count": 115,
   "id": "5ee5e2f5",
   "metadata": {},
   "outputs": [],
   "source": [
    "prices = pd.DataFrame ( \n",
    "    {\n",
    "        \"M_Top\": data[\"Adj Close\"],\n",
    "        \"Original\": data[\"Adj Close\"],\n",
    "        \"M_Bottom\": data[\"Adj Close\"],\n",
    "    }\n",
    ")"
   ]
  },
  {
   "cell_type": "code",
   "execution_count": 116,
   "id": "afb62b02",
   "metadata": {},
   "outputs": [
    {
     "data": {
      "text/html": [
       "<div>\n",
       "<style scoped>\n",
       "    .dataframe tbody tr th:only-of-type {\n",
       "        vertical-align: middle;\n",
       "    }\n",
       "\n",
       "    .dataframe tbody tr th {\n",
       "        vertical-align: top;\n",
       "    }\n",
       "\n",
       "    .dataframe thead th {\n",
       "        text-align: right;\n",
       "    }\n",
       "</style>\n",
       "<table border=\"1\" class=\"dataframe\">\n",
       "  <thead>\n",
       "    <tr style=\"text-align: right;\">\n",
       "      <th></th>\n",
       "      <th>M_Top</th>\n",
       "      <th>Original</th>\n",
       "      <th>M_Bottom</th>\n",
       "    </tr>\n",
       "    <tr>\n",
       "      <th>Date</th>\n",
       "      <th></th>\n",
       "      <th></th>\n",
       "      <th></th>\n",
       "    </tr>\n",
       "  </thead>\n",
       "  <tbody>\n",
       "    <tr>\n",
       "      <th>1998-12-22</th>\n",
       "      <td>1203.569946</td>\n",
       "      <td>1203.569946</td>\n",
       "      <td>1203.569946</td>\n",
       "    </tr>\n",
       "    <tr>\n",
       "      <th>1998-12-23</th>\n",
       "      <td>1228.540039</td>\n",
       "      <td>1228.540039</td>\n",
       "      <td>1228.540039</td>\n",
       "    </tr>\n",
       "    <tr>\n",
       "      <th>1998-12-24</th>\n",
       "      <td>1226.270020</td>\n",
       "      <td>1226.270020</td>\n",
       "      <td>1226.270020</td>\n",
       "    </tr>\n",
       "    <tr>\n",
       "      <th>1998-12-28</th>\n",
       "      <td>1225.489990</td>\n",
       "      <td>1225.489990</td>\n",
       "      <td>1225.489990</td>\n",
       "    </tr>\n",
       "    <tr>\n",
       "      <th>1998-12-29</th>\n",
       "      <td>1241.810059</td>\n",
       "      <td>1241.810059</td>\n",
       "      <td>1241.810059</td>\n",
       "    </tr>\n",
       "  </tbody>\n",
       "</table>\n",
       "</div>"
      ],
      "text/plain": [
       "                  M_Top     Original     M_Bottom\n",
       "Date                                             \n",
       "1998-12-22  1203.569946  1203.569946  1203.569946\n",
       "1998-12-23  1228.540039  1228.540039  1228.540039\n",
       "1998-12-24  1226.270020  1226.270020  1226.270020\n",
       "1998-12-28  1225.489990  1225.489990  1225.489990\n",
       "1998-12-29  1241.810059  1241.810059  1241.810059"
      ]
     },
     "execution_count": 116,
     "metadata": {},
     "output_type": "execute_result"
    }
   ],
   "source": [
    "prices.head()\n"
   ]
  },
  {
   "cell_type": "code",
   "execution_count": 117,
   "id": "7a146836",
   "metadata": {},
   "outputs": [],
   "source": [
    "ret = prices.pct_change()\n"
   ]
  },
  {
   "cell_type": "code",
   "execution_count": 118,
   "id": "021d2c7b",
   "metadata": {},
   "outputs": [
    {
     "data": {
      "text/html": [
       "<div>\n",
       "<style scoped>\n",
       "    .dataframe tbody tr th:only-of-type {\n",
       "        vertical-align: middle;\n",
       "    }\n",
       "\n",
       "    .dataframe tbody tr th {\n",
       "        vertical-align: top;\n",
       "    }\n",
       "\n",
       "    .dataframe thead th {\n",
       "        text-align: right;\n",
       "    }\n",
       "</style>\n",
       "<table border=\"1\" class=\"dataframe\">\n",
       "  <thead>\n",
       "    <tr style=\"text-align: right;\">\n",
       "      <th></th>\n",
       "      <th>M_Top</th>\n",
       "      <th>Original</th>\n",
       "      <th>M_Bottom</th>\n",
       "    </tr>\n",
       "    <tr>\n",
       "      <th>Date</th>\n",
       "      <th></th>\n",
       "      <th></th>\n",
       "      <th></th>\n",
       "    </tr>\n",
       "  </thead>\n",
       "  <tbody>\n",
       "    <tr>\n",
       "      <th>1998-12-22</th>\n",
       "      <td>NaN</td>\n",
       "      <td>NaN</td>\n",
       "      <td>NaN</td>\n",
       "    </tr>\n",
       "    <tr>\n",
       "      <th>1998-12-23</th>\n",
       "      <td>0.020747</td>\n",
       "      <td>0.020747</td>\n",
       "      <td>0.020747</td>\n",
       "    </tr>\n",
       "    <tr>\n",
       "      <th>1998-12-24</th>\n",
       "      <td>-0.001848</td>\n",
       "      <td>-0.001848</td>\n",
       "      <td>-0.001848</td>\n",
       "    </tr>\n",
       "    <tr>\n",
       "      <th>1998-12-28</th>\n",
       "      <td>-0.000636</td>\n",
       "      <td>-0.000636</td>\n",
       "      <td>-0.000636</td>\n",
       "    </tr>\n",
       "    <tr>\n",
       "      <th>1998-12-29</th>\n",
       "      <td>0.013317</td>\n",
       "      <td>0.013317</td>\n",
       "      <td>0.013317</td>\n",
       "    </tr>\n",
       "  </tbody>\n",
       "</table>\n",
       "</div>"
      ],
      "text/plain": [
       "               M_Top  Original  M_Bottom\n",
       "Date                                    \n",
       "1998-12-22       NaN       NaN       NaN\n",
       "1998-12-23  0.020747  0.020747  0.020747\n",
       "1998-12-24 -0.001848 -0.001848 -0.001848\n",
       "1998-12-28 -0.000636 -0.000636 -0.000636\n",
       "1998-12-29  0.013317  0.013317  0.013317"
      ]
     },
     "execution_count": 118,
     "metadata": {},
     "output_type": "execute_result"
    }
   ],
   "source": [
    "\n",
    "ret.head()\n"
   ]
  },
  {
   "cell_type": "code",
   "execution_count": 122,
   "id": "004dccde",
   "metadata": {
    "scrolled": true
   },
   "outputs": [
    {
     "data": {
      "text/plain": [
       "<AxesSubplot:xlabel='Date'>"
      ]
     },
     "execution_count": 122,
     "metadata": {},
     "output_type": "execute_result"
    },
    {
     "data": {
      "image/png": "[encoded data removed]",
      "text/plain": [
       "<Figure size 720x360 with 1 Axes>"
      ]
     },
     "metadata": {
      "needs_background": "light"
     },
     "output_type": "display_data"
    }
   ],
   "source": [
    "(ret+1).cumprod().plot(figsize = (10,5), grid = True)\n"
   ]
  },
  {
   "cell_type": "code",
   "execution_count": 124,
   "id": "0c433dce",
   "metadata": {},
   "outputs": [
    {
     "data": {
      "text/plain": [
       "Date\n",
       "2008-10-13    0.115800\n",
       "2008-10-28    0.107890\n",
       "2009-03-23    0.070758\n",
       "2008-11-13    0.069213\n",
       "2008-11-24    0.064723\n",
       "Name: Original, dtype: float64"
      ]
     },
     "execution_count": 124,
     "metadata": {},
     "output_type": "execute_result"
    }
   ],
   "source": [
    "val_big = ret[\"Original\"].nlargest(n = 5)\n",
    "val_big"
   ]
  },
  {
   "cell_type": "code",
   "execution_count": 100,
   "id": "dda586f0",
   "metadata": {},
   "outputs": [],
   "source": [
    "val_big = ret[\"Original\"].nlargest(n = 5).iloc[4]\n",
    "val_small = ret[\"Original\"].nsmallest (n = 5).iloc[4]\n"
   ]
  },
  {
   "cell_type": "code",
   "execution_count": 120,
   "id": "582af630",
   "metadata": {},
   "outputs": [],
   "source": [
    "def remove_outliers (outlier_n):\n",
    "    ret_copy = ret.copy()\n",
    "    val_big = ret_copy[\"Original\"].nlargest(n = outlier_n).iloc[outlier_n-1]\n",
    "    val_small = ret_copy[\"Original\"].nsmallest (n = outlier_n).iloc[outlier_n-1]\n",
    "    \n",
    "    ret_copy[\"M_Top\"] = np.where(ret_copy[\"M_Top\"] > val_big, 0 , ret_copy[\"M_Top\"])\n",
    "    ret_copy[\"M_Bottom\"] = np.where(ret_copy[\"M_Bottom\"] < val_small, 0 , ret_copy[\"M_Bottom\"])\n",
    "    (ret_copy+1).cumprod().plot(figsize = (15,10))\n",
    "    plt.show()"
   ]
  },
  {
   "cell_type": "code",
   "execution_count": 121,
   "id": "728d1b90",
   "metadata": {},
   "outputs": [
    {
     "data": {
      "application/vnd.jupyter.widget-view+json": {
       "model_id": "1e88737b3e78401f9d21b45837fd061d",
       "version_major": 2,
       "version_minor": 0
      },
      "text/plain": [
       "interactive(children=(IntSlider(value=5, description='outlier_n', max=10), Output()), _dom_classes=('widget-in…"
      ]
     },
     "metadata": {},
     "output_type": "display_data"
    },
    {
     "data": {
      "text/plain": [
       "<function __main__.remove_outliers(outlier_n)>"
      ]
     },
     "execution_count": 121,
     "metadata": {},
     "output_type": "execute_result"
    }
   ],
   "source": [
    "interact (remove_outliers, outlier_n = (0,10,1))"
   ]
  },
  {
   "cell_type": "code",
   "execution_count": null,
   "id": "1d8b9ac1",
   "metadata": {},
   "outputs": [],
   "source": []
  }
 ],
 "metadata": {
  "kernelspec": {
   "display_name": "Python 3",
   "language": "python",
   "name": "python3"
  },
  "language_info": {
   "codemirror_mode": {
    "name": "ipython",
    "version": 3
   },
   "file_extension": ".py",
   "mimetype": "text/x-python",
   "name": "python",
   "nbconvert_exporter": "python",
   "pygments_lexer": "ipython3",
   "version": "3.8.10"
  }
 },
 "nbformat": 4,
 "nbformat_minor": 5
}
